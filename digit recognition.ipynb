{
 "cells": [
  {
   "cell_type": "code",
   "execution_count": 1,
   "metadata": {},
   "outputs": [],
   "source": [
    "import torch\n",
    "import pandas as pd\n",
    "import csv\n",
    "import numpy as np\n",
    "\n"
   ]
  },
  {
   "cell_type": "code",
   "execution_count": 2,
   "metadata": {},
   "outputs": [
    {
     "name": "stdout",
     "output_type": "stream",
     "text": [
      "CSV_file type:  <class '_csv.reader'>\n"
     ]
    }
   ],
   "source": [
    "file = \"C:/Users/titan/Documents/Kaggle/Handwriting/digit-recognizer/train.csv\"\n",
    "counter = 0\n",
    "labels = []\n",
    "image_lists = []\n",
    "with open(file, mode=\"r\") as numbers:\n",
    "    csv_file = csv.reader(numbers)\n",
    "    print(\"CSV_file type: \", type(csv_file))\n",
    "    for lines in csv_file:\n",
    "        labels.append(lines[0])\n",
    "        if counter >= 1:\n",
    "            image_lists.append(lines[1:])\n",
    "            #for i in lines:\n",
    "                #print(i)\n",
    "        counter +=1\n",
    "\n"
   ]
  },
  {
   "cell_type": "code",
   "execution_count": null,
   "metadata": {},
   "outputs": [],
   "source": [
    "new_image_list = []\n",
    "for i in range(len(image_lists)):\n",
    "    temp_image = []\n",
    "    temp_row = []\n",
    "    temp_i = image_lists[i]\n",
    "    for j in range(1,len(image_lists[i])+1):\n",
    "        temp_row.append(image_lists[j-1])\n",
    "        if not j%28:\n",
    "            #print(\"Row Length: \", len(temp_row))\n",
    "            #print(\"Array Length: \", len(temp_image))\n",
    "            temp_image.append(temp_row)\n",
    "            temp_row = []\n",
    "            \n",
    "    new_image_list.append(np.array(temp_image))\n",
    "    #print(\"New Image length: \", len(new_image_list))"
   ]
  },
  {
   "cell_type": "code",
   "execution_count": 43,
   "metadata": {},
   "outputs": [
    {
     "data": {
      "text/plain": [
       "0"
      ]
     },
     "execution_count": 43,
     "metadata": {},
     "output_type": "execute_result"
    }
   ],
   "source": [
    "0%23"
   ]
  }
 ],
 "metadata": {
  "kernelspec": {
   "display_name": "CZII",
   "language": "python",
   "name": "python3"
  },
  "language_info": {
   "codemirror_mode": {
    "name": "ipython",
    "version": 3
   },
   "file_extension": ".py",
   "mimetype": "text/x-python",
   "name": "python",
   "nbconvert_exporter": "python",
   "pygments_lexer": "ipython3",
   "version": "3.10.16"
  }
 },
 "nbformat": 4,
 "nbformat_minor": 2
}
